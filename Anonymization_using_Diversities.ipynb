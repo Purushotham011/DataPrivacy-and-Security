{
  "nbformat": 4,
  "nbformat_minor": 0,
  "metadata": {
    "colab": {
      "provenance": [],
      "authorship_tag": "ABX9TyMCQy+Sk93OgxuxkUM3f7O9"
    },
    "kernelspec": {
      "name": "python3",
      "display_name": "Python 3"
    },
    "language_info": {
      "name": "python"
    }
  },
  "cells": [
    {
      "cell_type": "code",
      "execution_count": 1,
      "metadata": {
        "colab": {
          "base_uri": "https://localhost:8080/"
        },
        "id": "Ns7HasjIoL4b",
        "outputId": "414f79b3-6042-467d-a16e-355aa4aebc9c"
      },
      "outputs": [
        {
          "output_type": "stream",
          "name": "stdout",
          "text": [
            "Original Dataset:\n",
            "   Name  Age Zipcode Purchased Item\n",
            "0  John   25   11111         Laptop\n",
            "1  Sara   28   11111          Phone\n",
            "2  Mike   25   11111         Laptop\n",
            "3  Emma   35   22222         Tablet\n",
            "4  Lily   35   22222         Laptop\n",
            "\n",
            "After Applying k-Anonymity:\n",
            "   Name Purchased Item Generalized_Age Generalized_Zipcode\n",
            "0  John         Laptop           25-29               111XX\n",
            "1  Sara          Phone           25-29               111XX\n",
            "2  Mike         Laptop           25-29               111XX\n",
            "3  Emma         Tablet           35-39               222XX\n",
            "4  Lily         Laptop           35-39               222XX\n",
            "\n",
            "Does the dataset satisfy l-Diversity (l=2)? True\n"
          ]
        }
      ],
      "source": [
        "import pandas as pd\n",
        "\n",
        "raw_data = pd.DataFrame({\n",
        "'Name': ['John', 'Sara', 'Mike', 'Emma', 'Lily'],\n",
        "'Age': [25,28,25,35,35],\n",
        "'Zipcode': ['11111','11111','11111','22222','22222'],\n",
        "'Purchased Item': ['Laptop','Phone', 'Laptop', 'Tablet', 'Laptop']\n",
        "})\n",
        "print(\"Original Dataset:\")\n",
        "print(raw_data)\n",
        "\n",
        "def generalize_age(age):\n",
        "    return f\"{(age // 5) * 5}-{((age // 5) * 5) + 4}\" # Indented with 4 spaces\n",
        "\n",
        "def generalize_zip(zipcode):\n",
        "    return zipcode[2:] + \"XX\" # Mask last two digits\n",
        "\n",
        "raw_data['Generalized_Age'] = raw_data['Age'].apply(generalize_age) # Changed aw_data to raw_data\n",
        "raw_data['Generalized_Zipcode'] = raw_data['Zipcode'].apply(generalize_zip)\n",
        "\n",
        "anonymized_data = raw_data.drop(columns=['Age', 'Zipcode'])\n",
        "print(\"\\nAfter Applying k-Anonymity:\")\n",
        "print(anonymized_data)\n",
        "\n",
        "from collections import Counter # Import Counter from collections modulede\n",
        "def check_l_diversity(df, quasi_identifiers, sensitive_attribute, l):\n",
        "   # The code within the function should be indented\n",
        "    grouped = df.groupby(quasi_identifiers)\n",
        "    for name, group in grouped:\n",
        "        value_counts = Counter(group[sensitive_attribute])  # Assuming Counter is imported\n",
        "        if len(value_counts) < l:\n",
        "            return False\n",
        "    return True\n",
        "\n",
        "quasi_identifiers = ['Generalized_Age', 'Generalized_Zipcode']\n",
        "sensitive_attribute = 'Purchased Item'\n",
        "l_value = 2 # Ensuring at least 2 different diseases per group\n",
        "\n",
        "is_l_diverse = check_l_diversity(anonymized_data, quasi_identifiers, sensitive_attribute, l_value)\n",
        "print(\"\\nDoes the dataset satisfy l-Diversity (l=2)?\", is_l_diverse)"
      ]
    }
  ]
}