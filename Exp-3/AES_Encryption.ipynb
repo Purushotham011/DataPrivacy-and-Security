{
 "cells": [
  {
   "cell_type": "code",
   "execution_count": 3,
   "metadata": {},
   "outputs": [
    {
     "name": "stdout",
     "output_type": "stream",
     "text": [
      "Original Plaintext: This is a secret message to be encrypted.\n",
      "Padded Plaintext: b'This is a secret message to be encrypted.\\x07\\x07\\x07\\x07\\x07\\x07\\x07'\n",
      "Ciphertext (Hex): 4acbf26cb4e74665396684da16359e1bc808d018583a2f51a94878e88404c8286206a1b346bc9f3b41517dcbf4e3ecc9\n",
      "--------------------------------------------------\n",
      "Decrypted Plaintext: This is a secret message to be encrypted.\n"
     ]
    }
   ],
   "source": [
    "import Crypto\n",
    "from Crypto.Cipher import AES\n",
    "from Crypto.Util.Padding import pad, unpad\n",
    "from Crypto.Random import get_random_bytes\n",
    "\n",
    "def aes_encrypt_decrypt():\n",
    "  # Step 1: Define plaintext and generate a key\n",
    "  plaintext = b\"This is a secret message to be encrypted.\" # Message to encrypt\n",
    "  key = get_random_bytes(16) # AES-128 requires a 16-byte key  \n",
    "  \n",
    "  # Step 2: Pad plaintext to match AES block size (16 bytes)\n",
    "  padded_plaintext = pad(plaintext, AES.block_size)\n",
    "  \n",
    "  # Step 3: Generate a random Initialization Vector (IV)\n",
    "  iv = get_random_bytes(AES.block_size)\n",
    "\n",
    "  # Step 4: Encrypt the plaintext using AES-CBC mode\n",
    "  cipher = AES.new(key, AES.MODE_CBC, iv)\n",
    "  ciphertext = cipher.encrypt(padded_plaintext)\n",
    "  \n",
    "  # Display the encrypted data\n",
    "  print(\"Original Plaintext:\", plaintext.decode())\n",
    "  print(\"Padded Plaintext:\", padded_plaintext)\n",
    "  print(\"Ciphertext (Hex):\", ciphertext.hex())\n",
    "  print(\"-\" * 50)\n",
    "  \n",
    "  # Step 5: Decrypt the ciphertext\n",
    "  cipher_decrypt = AES.new(key, AES.MODE_CBC, iv) # Use the same key and IV\n",
    "  decrypted_data = cipher_decrypt.decrypt(ciphertext)\n",
    "  \n",
    "  # Unpad the decrypted data\n",
    "  decrypted_plaintext = unpad(decrypted_data, AES.block_size)\n",
    "  \n",
    "  # Display the decrypted data\n",
    "  print(\"Decrypted Plaintext:\", decrypted_plaintext.decode())\n",
    "  # Run the encryption and decryption process\n",
    "\n",
    "if __name__ == \"__main__\":\n",
    "  aes_encrypt_decrypt()"
   ]
  }
 ],
 "metadata": {
  "kernelspec": {
   "display_name": "DPS",
   "language": "python",
   "name": "python3"
  },
  "language_info": {
   "codemirror_mode": {
    "name": "ipython",
    "version": 3
   },
   "file_extension": ".py",
   "mimetype": "text/x-python",
   "name": "python",
   "nbconvert_exporter": "python",
   "pygments_lexer": "ipython3",
   "version": "3.12.9"
  }
 },
 "nbformat": 4,
 "nbformat_minor": 2
}
